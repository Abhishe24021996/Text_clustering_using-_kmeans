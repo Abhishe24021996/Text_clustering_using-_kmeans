{
 "cells": [
  {
   "cell_type": "code",
   "execution_count": 1,
   "metadata": {},
   "outputs": [],
   "source": [
    "import re\n",
    "from nltk.corpus import stopwords\n",
    "from string import punctuation\n",
    "from material_cleaner.cleaner import text_cleaner\n",
    "import pandas as pd\n"
   ]
  },
  {
   "cell_type": "code",
   "execution_count": 3,
   "metadata": {},
   "outputs": [
    {
     "data": {
      "text/html": [
       "<div>\n",
       "<style scoped>\n",
       "    .dataframe tbody tr th:only-of-type {\n",
       "        vertical-align: middle;\n",
       "    }\n",
       "\n",
       "    .dataframe tbody tr th {\n",
       "        vertical-align: top;\n",
       "    }\n",
       "\n",
       "    .dataframe thead th {\n",
       "        text-align: right;\n",
       "    }\n",
       "</style>\n",
       "<table border=\"1\" class=\"dataframe\">\n",
       "  <thead>\n",
       "    <tr style=\"text-align: right;\">\n",
       "      <th></th>\n",
       "      <th>Unnamed: 0</th>\n",
       "      <th>doi</th>\n",
       "      <th>pmid</th>\n",
       "      <th>text</th>\n",
       "      <th>link</th>\n",
       "      <th>label1</th>\n",
       "    </tr>\n",
       "  </thead>\n",
       "  <tbody>\n",
       "    <tr>\n",
       "      <th>0</th>\n",
       "      <td>0</td>\n",
       "      <td>10.1377/hlthaff.2014.0743</td>\n",
       "      <td>25489031.0</td>\n",
       "      <td>Go to:AbstractThe ACA establishes “essential h...</td>\n",
       "      <td>https://www.ncbi.nlm.nih.gov/pmc/articles/PMC4...</td>\n",
       "      <td>abstract</td>\n",
       "    </tr>\n",
       "    <tr>\n",
       "      <th>1</th>\n",
       "      <td>1</td>\n",
       "      <td>10.7508/ibj.2015.03.009</td>\n",
       "      <td>26025954.0</td>\n",
       "      <td>Go to:AbstractBackground:The variable numbers ...</td>\n",
       "      <td>https://www.ncbi.nlm.nih.gov/pmc/articles/PMC4...</td>\n",
       "      <td>abstract</td>\n",
       "    </tr>\n",
       "    <tr>\n",
       "      <th>2</th>\n",
       "      <td>2</td>\n",
       "      <td>10.3748/wjg.v21.i8.2504</td>\n",
       "      <td>25741161.0</td>\n",
       "      <td>Go to:AbstractAIM: To evaluate the safety and ...</td>\n",
       "      <td>https://www.ncbi.nlm.nih.gov/pmc/articles/PMC4...</td>\n",
       "      <td>abstract</td>\n",
       "    </tr>\n",
       "    <tr>\n",
       "      <th>3</th>\n",
       "      <td>3</td>\n",
       "      <td>10.4103/ijnmr.IJNMR_174_18</td>\n",
       "      <td>31333744.0</td>\n",
       "      <td>Go to:AbstractBackground:Cancer is the second ...</td>\n",
       "      <td>https://www.ncbi.nlm.nih.gov/pmc/articles/PMC6...</td>\n",
       "      <td>abstract</td>\n",
       "    </tr>\n",
       "    <tr>\n",
       "      <th>4</th>\n",
       "      <td>4</td>\n",
       "      <td>10.1136/bmjpo-2017-000172</td>\n",
       "      <td>29637168.0</td>\n",
       "      <td>Go to:AbstractObjectiveTo describe the experie...</td>\n",
       "      <td>https://www.ncbi.nlm.nih.gov/pmc/articles/PMC5...</td>\n",
       "      <td>abstract</td>\n",
       "    </tr>\n",
       "  </tbody>\n",
       "</table>\n",
       "</div>"
      ],
      "text/plain": [
       "   Unnamed: 0                         doi        pmid  \\\n",
       "0           0   10.1377/hlthaff.2014.0743  25489031.0   \n",
       "1           1     10.7508/ibj.2015.03.009  26025954.0   \n",
       "2           2     10.3748/wjg.v21.i8.2504  25741161.0   \n",
       "3           3  10.4103/ijnmr.IJNMR_174_18  31333744.0   \n",
       "4           4   10.1136/bmjpo-2017-000172  29637168.0   \n",
       "\n",
       "                                                text  \\\n",
       "0  Go to:AbstractThe ACA establishes “essential h...   \n",
       "1  Go to:AbstractBackground:The variable numbers ...   \n",
       "2  Go to:AbstractAIM: To evaluate the safety and ...   \n",
       "3  Go to:AbstractBackground:Cancer is the second ...   \n",
       "4  Go to:AbstractObjectiveTo describe the experie...   \n",
       "\n",
       "                                                link    label1  \n",
       "0  https://www.ncbi.nlm.nih.gov/pmc/articles/PMC4...  abstract  \n",
       "1  https://www.ncbi.nlm.nih.gov/pmc/articles/PMC4...  abstract  \n",
       "2  https://www.ncbi.nlm.nih.gov/pmc/articles/PMC4...  abstract  \n",
       "3  https://www.ncbi.nlm.nih.gov/pmc/articles/PMC6...  abstract  \n",
       "4  https://www.ncbi.nlm.nih.gov/pmc/articles/PMC5...  abstract  "
      ]
     },
     "execution_count": 3,
     "metadata": {},
     "output_type": "execute_result"
    }
   ],
   "source": [
    "data = pd.read_csv(\"abstract_2sec.csv\")"
   ]
  },
  {
   "cell_type": "code",
   "execution_count": 4,
   "metadata": {},
   "outputs": [],
   "source": [
    "def structure_1(text):\n",
    "    text = text.lower()\n",
    "    #substituting the known irregularities as from scraping\n",
    "    text = text.replace(\"go to:abstract\",\"\")\n",
    "    text = text.replace(\"go to:summary\",\"\")\n",
    "    #removing last keywords as not needed using regex\n",
    "    text = re.sub(\"\\.keywords:.+\",\"\",text)\n",
    "    return text.strip()\n",
    "\n",
    "data.text = data.text.apply(lambda x : structure_1(x))"
   ]
  },
  {
   "cell_type": "code",
   "execution_count": 7,
   "metadata": {},
   "outputs": [
    {
     "data": {
      "text/html": [
       "<div>\n",
       "<style scoped>\n",
       "    .dataframe tbody tr th:only-of-type {\n",
       "        vertical-align: middle;\n",
       "    }\n",
       "\n",
       "    .dataframe tbody tr th {\n",
       "        vertical-align: top;\n",
       "    }\n",
       "\n",
       "    .dataframe thead th {\n",
       "        text-align: right;\n",
       "    }\n",
       "</style>\n",
       "<table border=\"1\" class=\"dataframe\">\n",
       "  <thead>\n",
       "    <tr style=\"text-align: right;\">\n",
       "      <th></th>\n",
       "      <th>Unnamed: 0</th>\n",
       "      <th>doi</th>\n",
       "      <th>pmid</th>\n",
       "      <th>text</th>\n",
       "      <th>link</th>\n",
       "      <th>label1</th>\n",
       "    </tr>\n",
       "  </thead>\n",
       "  <tbody>\n",
       "    <tr>\n",
       "      <th>0</th>\n",
       "      <td>0</td>\n",
       "      <td>10.1377/hlthaff.2014.0743</td>\n",
       "      <td>25489031.0</td>\n",
       "      <td>the aca establishes “essential health benefits...</td>\n",
       "      <td>https://www.ncbi.nlm.nih.gov/pmc/articles/PMC4...</td>\n",
       "      <td>abstract</td>\n",
       "    </tr>\n",
       "    <tr>\n",
       "      <th>1</th>\n",
       "      <td>1</td>\n",
       "      <td>10.7508/ibj.2015.03.009</td>\n",
       "      <td>26025954.0</td>\n",
       "      <td>background:the variable numbers of tandem-repe...</td>\n",
       "      <td>https://www.ncbi.nlm.nih.gov/pmc/articles/PMC4...</td>\n",
       "      <td>abstract</td>\n",
       "    </tr>\n",
       "    <tr>\n",
       "      <th>2</th>\n",
       "      <td>2</td>\n",
       "      <td>10.3748/wjg.v21.i8.2504</td>\n",
       "      <td>25741161.0</td>\n",
       "      <td>aim: to evaluate the safety and efficacy of te...</td>\n",
       "      <td>https://www.ncbi.nlm.nih.gov/pmc/articles/PMC4...</td>\n",
       "      <td>abstract</td>\n",
       "    </tr>\n",
       "    <tr>\n",
       "      <th>3</th>\n",
       "      <td>3</td>\n",
       "      <td>10.4103/ijnmr.IJNMR_174_18</td>\n",
       "      <td>31333744.0</td>\n",
       "      <td>background:cancer is the second most common ca...</td>\n",
       "      <td>https://www.ncbi.nlm.nih.gov/pmc/articles/PMC6...</td>\n",
       "      <td>abstract</td>\n",
       "    </tr>\n",
       "    <tr>\n",
       "      <th>4</th>\n",
       "      <td>4</td>\n",
       "      <td>10.1136/bmjpo-2017-000172</td>\n",
       "      <td>29637168.0</td>\n",
       "      <td>objectiveto describe the experiences of austra...</td>\n",
       "      <td>https://www.ncbi.nlm.nih.gov/pmc/articles/PMC5...</td>\n",
       "      <td>abstract</td>\n",
       "    </tr>\n",
       "  </tbody>\n",
       "</table>\n",
       "</div>"
      ],
      "text/plain": [
       "   Unnamed: 0                         doi        pmid  \\\n",
       "0           0   10.1377/hlthaff.2014.0743  25489031.0   \n",
       "1           1     10.7508/ibj.2015.03.009  26025954.0   \n",
       "2           2     10.3748/wjg.v21.i8.2504  25741161.0   \n",
       "3           3  10.4103/ijnmr.IJNMR_174_18  31333744.0   \n",
       "4           4   10.1136/bmjpo-2017-000172  29637168.0   \n",
       "\n",
       "                                                text  \\\n",
       "0  the aca establishes “essential health benefits...   \n",
       "1  background:the variable numbers of tandem-repe...   \n",
       "2  aim: to evaluate the safety and efficacy of te...   \n",
       "3  background:cancer is the second most common ca...   \n",
       "4  objectiveto describe the experiences of austra...   \n",
       "\n",
       "                                                link    label1  \n",
       "0  https://www.ncbi.nlm.nih.gov/pmc/articles/PMC4...  abstract  \n",
       "1  https://www.ncbi.nlm.nih.gov/pmc/articles/PMC4...  abstract  \n",
       "2  https://www.ncbi.nlm.nih.gov/pmc/articles/PMC4...  abstract  \n",
       "3  https://www.ncbi.nlm.nih.gov/pmc/articles/PMC6...  abstract  \n",
       "4  https://www.ncbi.nlm.nih.gov/pmc/articles/PMC5...  abstract  "
      ]
     },
     "execution_count": 7,
     "metadata": {},
     "output_type": "execute_result"
    }
   ],
   "source": [
    "data.head()\n",
    "data.to_csv('finaldata111.csv')"
   ]
  },
  {
   "cell_type": "code",
   "execution_count": 16,
   "metadata": {},
   "outputs": [],
   "source": [
    "def r_stopwords(text):\n",
    "    text = re.sub('[0-9]',' ',text)\n",
    "    return ' '.join(text)\n",
    "\n",
    "#data.text = data.text.apply(lambda x : r_stopwords(x))\n",
    "data.text = data.text.apply(lambda x : text_cleaner.__run__(x))"
   ]
  },
  {
   "cell_type": "code",
   "execution_count": 17,
   "metadata": {},
   "outputs": [],
   "source": [
    "#list of documents \n",
    "documents = data.text.tolist()"
   ]
  },
  {
   "cell_type": "code",
   "execution_count": 18,
   "metadata": {},
   "outputs": [],
   "source": [
    "from sklearn.feature_extraction.text import TfidfVectorizer\n",
    "from sklearn.cluster import KMeans\n",
    "\n",
    "def process_text(text):\n",
    "    words = text.split()\n",
    "    return words\n",
    "    \n",
    "\n",
    "vectorizer = TfidfVectorizer(tokenizer = process_text, stop_words='english', max_df=0.8,lowercase=True)\n",
    "doc_vec = vectorizer.fit_transform(documents)"
   ]
  },
  {
   "cell_type": "code",
   "execution_count": 19,
   "metadata": {},
   "outputs": [],
   "source": [
    "dtm = pd.DataFrame(doc_vec.toarray().transpose(), index = vectorizer.get_feature_names(), columns= data.doi.tolist())\n",
    "import numpy as np\n",
    "arr = np.array(dtm)"
   ]
  },
  {
   "cell_type": "code",
   "execution_count": 20,
   "metadata": {},
   "outputs": [
    {
     "data": {
      "image/png": "[encoded data removed]",
      "text/plain": [
       "<Figure size 432x288 with 1 Axes>"
      ]
     },
     "metadata": {
      "needs_background": "light"
     },
     "output_type": "display_data"
    }
   ],
   "source": [
    "import matplotlib.pyplot as plt\n",
    "# Using the elbow method to find the optimal number of clusters\n",
    "from sklearn.cluster import KMeans\n",
    "%matplotlib inline  \n",
    "wcss = []\n",
    "for i in range(1, 15):\n",
    "    kmeans = KMeans(n_clusters = i, init = 'k-means++', random_state = 42,max_iter = 100, n_init = 10)\n",
    "    kmeans.fit(arr)\n",
    "    wcss.append(kmeans.inertia_)\n",
    "plt.plot(range(1, 15), wcss)\n",
    "plt.title('The Elbow Method')\n",
    "plt.xlabel('Number of clusters')\n",
    "plt.ylabel('WCSS')\n",
    "plt.show()"
   ]
  },
  {
   "cell_type": "code",
   "execution_count": 21,
   "metadata": {},
   "outputs": [],
   "source": [
    "#n = 5, 6,10"
   ]
  },
  {
   "cell_type": "code",
   "execution_count": 22,
   "metadata": {},
   "outputs": [],
   "source": [
    "# # no. of cluster == 5, 6, 10\n",
    "# n=10\n",
    "# model = KMeans(n_clusters=n, init='k-means++', max_iter = 100, n_init = 10)\n",
    "# model.fit(arr)\n",
    "\n",
    "# import string\n",
    "# import collections\n",
    "# clustering = collections.defaultdict(list)\n",
    " \n",
    "# for idx, label in enumerate(model.labels_):\n",
    "#     clustering[label].append(dtm.index[idx])"
   ]
  },
  {
   "cell_type": "code",
   "execution_count": 23,
   "metadata": {},
   "outputs": [],
   "source": [
    "# n=5\n",
    "# model = KMeans(n_clusters=n, init='k-means++', max_iter = 100, n_init = 10)\n",
    "# model.fit(doc_vec.transpose())\n",
    "# terms = vectorizer.get_feature_names()\n",
    "# import string\n",
    "# import collections\n",
    "# clustering = collections.defaultdict(list)\n",
    " \n",
    "# for idx, label in enumerate(model.labels_):\n",
    "#     clustering[label].append(terms[idx])\n",
    "# #print(dict(clustering))\n"
   ]
  },
  {
   "cell_type": "code",
   "execution_count": 24,
   "metadata": {},
   "outputs": [],
   "source": [
    "import collections\n",
    "import os\n",
    "import time\n",
    "\n",
    "def cluster(min=4,max=15,directory=str(time.time()).split('.')[0]):\n",
    "    terms = vectorizer.get_feature_names()\n",
    "    for n in range(min,max):\n",
    "        model = KMeans(n_clusters=n, init='k-means++', max_iter = 100, n_init=10)\n",
    "        model.fit(doc_vec.transpose())\n",
    "\n",
    "        clustering = collections.defaultdict(list)\n",
    "\n",
    "        for idx, label in enumerate(model.labels_):\n",
    "            clustering[label].append(terms[idx]) \n",
    "        if not os.path.isdir(directory):\n",
    "            os.mkdir(directory)\n",
    "        filename = \"df_\"+str(n)\n",
    "\n",
    "        df = pd.DataFrame(columns = ('cluster_n','keywords','no.of words'))\n",
    "\n",
    "        for key, value in clustering.items():\n",
    "            cluster = key\n",
    "            keyword =  ' '.join(value)\n",
    "            length = len(value)\n",
    "\n",
    "            df = df.append({'cluster_n':cluster,'keywords':str(keyword),'no.of words':length},ignore_index=True)\n",
    "        df.to_excel(os.path.join(directory,filename+'.xlsx'))\n",
    "    "
   ]
  },
  {
   "cell_type": "code",
   "execution_count": 25,
   "metadata": {},
   "outputs": [],
   "source": [
    "cluster(4,10)"
   ]
  },
  {
   "cell_type": "code",
   "execution_count": null,
   "metadata": {},
   "outputs": [],
   "source": []
  },
  {
   "cell_type": "code",
   "execution_count": null,
   "metadata": {},
   "outputs": [],
   "source": []
  },
  {
   "cell_type": "code",
   "execution_count": null,
   "metadata": {},
   "outputs": [],
   "source": []
  }
 ],
 "metadata": {
  "kernelspec": {
   "display_name": "Python 3",
   "language": "python",
   "name": "python3"
  },
  "language_info": {
   "codemirror_mode": {
    "name": "ipython",
    "version": 3
   },
   "file_extension": ".py",
   "mimetype": "text/x-python",
   "name": "python",
   "nbconvert_exporter": "python",
   "pygments_lexer": "ipython3",
   "version": "3.7.3"
  }
 },
 "nbformat": 4,
 "nbformat_minor": 2
}
